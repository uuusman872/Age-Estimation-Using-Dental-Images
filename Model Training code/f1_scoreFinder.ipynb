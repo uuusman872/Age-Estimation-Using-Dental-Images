{
 "cells": [
  {
   "cell_type": "code",
   "execution_count": 1,
   "metadata": {},
   "outputs": [],
   "source": [
    "from tensorflow.keras.applications.resnet50 import preprocess_input, decode_predictions\n",
    "from tensorflow.keras.preprocessing.image import ImageDataGenerator, load_img\n",
    "import matplotlib.pyplot as plt\n",
    "import numpy as np\n",
    "import pandas as pd\n",
    "import os"
   ]
  },
  {
   "cell_type": "code",
   "execution_count": 2,
   "metadata": {},
   "outputs": [],
   "source": [
    "from tensorflow.keras.models import load_model"
   ]
  },
  {
   "cell_type": "code",
   "execution_count": 3,
   "metadata": {},
   "outputs": [],
   "source": [
    "import tensorflow as tf"
   ]
  },
  {
   "cell_type": "code",
   "execution_count": 4,
   "metadata": {},
   "outputs": [
    {
     "data": {
      "text/plain": [
       "<Figure size 2400x1600 with 0 Axes>"
      ]
     },
     "execution_count": 4,
     "metadata": {},
     "output_type": "execute_result"
    },
    {
     "data": {
      "text/plain": [
       "<Figure size 2400x1600 with 0 Axes>"
      ]
     },
     "metadata": {},
     "output_type": "display_data"
    }
   ],
   "source": [
    "from matplotlib.pyplot import figure\n",
    "figure(figsize=(12, 8), dpi=200)"
   ]
  },
  {
   "cell_type": "code",
   "execution_count": 5,
   "metadata": {},
   "outputs": [],
   "source": [
    "categories = [\"20-29\", \"30-39\", \"40-49\", \"50-59\"]\n",
    "model = load_model(\"new_resnet50ImageModel.h5\")\n",
    "data_dir = \"Dataset/Test/50-59/\"\n",
    "files_to_predict = os.listdir(data_dir)"
   ]
  },
  {
   "cell_type": "code",
   "execution_count": 6,
   "metadata": {},
   "outputs": [
    {
     "name": "stdout",
     "output_type": "stream",
     "text": [
      "Found 743 images belonging to 4 classes.\n",
      "Found 25 images belonging to 4 classes.\n"
     ]
    }
   ],
   "source": [
    "input_shape = 320\n",
    "batch_size = 16\n",
    "image_gen = ImageDataGenerator(\n",
    "    preprocessing_function=preprocess_input,\n",
    "    shear_range=0.2,\n",
    "    zoom_range=0.2,\n",
    "    horizontal_flip=True\n",
    ")\n",
    "\n",
    "train_image_gen = image_gen.flow_from_directory('Dataset/Train',\n",
    "                                                target_size=(input_shape, input_shape),\n",
    "                                                batch_size=batch_size,\n",
    "                                                class_mode='categorical')\n",
    "test_image_gen = image_gen.flow_from_directory('Dataset/Test',\n",
    "                                               target_size=(input_shape, input_shape),\n",
    "                                               batch_size=1,\n",
    "                                               class_mode='categorical')"
   ]
  },
  {
   "cell_type": "code",
   "execution_count": 7,
   "metadata": {},
   "outputs": [
    {
     "data": {
      "image/png": "[encoded data removed]",
      "text/plain": [
       "<Figure size 432x288 with 2 Axes>"
      ]
     },
     "metadata": {
      "needs_background": "light"
     },
     "output_type": "display_data"
    },
    {
     "name": "stdout",
     "output_type": "stream",
     "text": [
      "test_acc= 80.0\n"
     ]
    }
   ],
   "source": [
    "import pandas as pd\n",
    "import seaborn as sn\n",
    "\n",
    "filenames = test_image_gen.filenames\n",
    "nb_samples = len(test_image_gen)\n",
    "y_prob = []\n",
    "y_act = []\n",
    "test_image_gen.reset()\n",
    "for _ in range(nb_samples):\n",
    "  x_test, y_test = test_image_gen.next()\n",
    "  y_prob.append(model.predict(x_test))\n",
    "  y_act.append(y_test)\n",
    "\n",
    "predicted_class = [list(train_image_gen.class_indices.keys())[i.argmax()] for i in y_prob]\n",
    "actual_class = [list(train_image_gen.class_indices.keys())[i.argmax()] for i in y_act]\n",
    "\n",
    "out_df = pd.DataFrame(np.vstack([predicted_class, actual_class]).T, columns=['predicted_class', 'actual_class'])\n",
    "confusion_matrix = pd.crosstab(out_df['actual_class'], out_df[\"predicted_class\"], rownames=[\"Actual\"], colnames=[\"predicted\"])\n",
    "sn.heatmap(confusion_matrix, cmap=\"Blues\", annot=True, fmt='d')\n",
    "\n",
    "plt.show()\n",
    "\n",
    "print(\"test_acc= {}\".format((np.diagonal(confusion_matrix).sum()/confusion_matrix.sum().sum()*100)))"
   ]
  },
  {
   "cell_type": "code",
   "execution_count": 8,
   "metadata": {},
   "outputs": [
    {
     "name": "stdout",
     "output_type": "stream",
     "text": [
      "50-59\n",
      "50-59\n",
      "50-59\n",
      "50-59\n",
      "50-59\n",
      "50-59\n"
     ]
    }
   ],
   "source": [
    "import os\n",
    "test_dir = \"Dataset/Test/50-59/\"\n",
    "files_to_predict = os.listdir(test_dir)\n",
    "for file in files_to_predict:\n",
    "    Image_path = data_dir + file\n",
    "    new_image = tf.keras.preprocessing.image.load_img(Image_path, target_size=(320, 320))\n",
    "    new_image = tf.keras.preprocessing.image.img_to_array(new_image)\n",
    "    new_image = np.expand_dims(new_image, axis=0)\n",
    "    prediction = model.predict(new_image)\n",
    "    print(categories[np.argmax(prediction)])"
   ]
  },
  {
   "cell_type": "code",
   "execution_count": 9,
   "metadata": {},
   "outputs": [],
   "source": [
    "test_acc = (np.diagonal(confusion_matrix).sum()/confusion_matrix.sum().sum()*100)"
   ]
  },
  {
   "cell_type": "code",
   "execution_count": 10,
   "metadata": {},
   "outputs": [
    {
     "data": {
      "text/plain": [
       "80.0"
      ]
     },
     "execution_count": 10,
     "metadata": {},
     "output_type": "execute_result"
    }
   ],
   "source": [
    "test_acc"
   ]
  },
  {
   "cell_type": "code",
   "execution_count": 11,
   "metadata": {
    "scrolled": true
   },
   "outputs": [],
   "source": [
    "from sklearn.metrics import f1_score"
   ]
  },
  {
   "cell_type": "code",
   "execution_count": 12,
   "metadata": {},
   "outputs": [],
   "source": [
    "new_prob = []\n",
    "for i in y_prob:\n",
    "    new_prob.append(np.argmax(i))"
   ]
  },
  {
   "cell_type": "code",
   "execution_count": 13,
   "metadata": {},
   "outputs": [],
   "source": [
    "new_act = []\n",
    "for i in y_act:\n",
    "    new_act.append(np.argmax(i))"
   ]
  },
  {
   "cell_type": "code",
   "execution_count": 14,
   "metadata": {},
   "outputs": [
    {
     "data": {
      "text/plain": [
       "[0, 1, 2, 2, 1, 3, 2, 2, 3, 0, 3, 3, 0, 3, 0, 2, 0, 2, 1, 1, 2, 0, 1, 1, 3]"
      ]
     },
     "execution_count": 14,
     "metadata": {},
     "output_type": "execute_result"
    }
   ],
   "source": [
    "new_act"
   ]
  },
  {
   "cell_type": "code",
   "execution_count": 15,
   "metadata": {},
   "outputs": [
    {
     "name": "stdout",
     "output_type": "stream",
     "text": [
      "25\n",
      "25\n"
     ]
    }
   ],
   "source": [
    "print(len(new_prob))\n",
    "print(len(new_act))"
   ]
  },
  {
   "cell_type": "code",
   "execution_count": 48,
   "metadata": {},
   "outputs": [],
   "source": [
    "fiscore = f1_score(new_act, new_prob, average='macro')"
   ]
  },
  {
   "cell_type": "code",
   "execution_count": 49,
   "metadata": {},
   "outputs": [],
   "source": [
    "from sklearn.metrics import precision_score"
   ]
  },
  {
   "cell_type": "code",
   "execution_count": 50,
   "metadata": {},
   "outputs": [],
   "source": [
    "preciesion = precision_score(new_act, new_prob, average=\"macro\")"
   ]
  },
  {
   "cell_type": "code",
   "execution_count": 20,
   "metadata": {},
   "outputs": [
    {
     "name": "stdout",
     "output_type": "stream",
     "text": [
      "Found 743 images belonging to 4 classes.\n",
      "Found 6 images belonging to 1 classes.\n",
      "Found 6 images belonging to 1 classes.\n",
      "Found 7 images belonging to 1 classes.\n",
      "Found 6 images belonging to 1 classes.\n"
     ]
    }
   ],
   "source": [
    "train_image_gen = image_gen.flow_from_directory('Dataset/Train',\n",
    "                                                target_size=(input_shape, input_shape),\n",
    "                                                batch_size=batch_size,\n",
    "                                                class_mode='categorical')\n",
    "\n",
    "test_cat1_image_gen = image_gen.flow_from_directory('New folder (2)/cat1',\n",
    "                                                    target_size=(input_shape, input_shape),\n",
    "                                                    batch_size=1,\n",
    "                                                    class_mode='categorical')\n",
    "\n",
    "test_cat2_image_gen = image_gen.flow_from_directory('New folder (2)/cat2',\n",
    "                                                    target_size=(input_shape, input_shape),\n",
    "                                                    batch_size=1,\n",
    "                                                    class_mode='categorical')\n",
    "test_cat3_image_gen = image_gen.flow_from_directory('New folder (2)/cat3',\n",
    "                                                    target_size=(input_shape, input_shape),\n",
    "                                                    batch_size=1,\n",
    "                                                    class_mode='categorical')\n",
    "test_cat4_image_gen = image_gen.flow_from_directory('New folder (2)/cat4',\n",
    "                                                    target_size=(input_shape, input_shape),\n",
    "                                                    batch_size=1,\n",
    "                                                    class_mode='categorical')"
   ]
  },
  {
   "cell_type": "code",
   "execution_count": 21,
   "metadata": {},
   "outputs": [
    {
     "name": "stdout",
     "output_type": "stream",
     "text": [
      "66\n",
      "66\n",
      "85\n",
      "100\n"
     ]
    }
   ],
   "source": [
    "def GenerateAcc(test_image_gen):\n",
    "    filenames = test_image_gen.filenames\n",
    "    nb_samples = len(test_image_gen)\n",
    "    y_prob = []\n",
    "    y_act = []\n",
    "    test_image_gen.reset()\n",
    "    for _ in range(nb_samples):\n",
    "        x_test, y_test = test_image_gen.next()\n",
    "        y_prob.append(model.predict(x_test))\n",
    "        y_act.append(y_test)\n",
    "    predicted_class = [list(train_image_gen.class_indices.keys())[i.argmax()] for i in y_prob]\n",
    "    actual_class = [list(train_image_gen.class_indices.keys())[i.argmax()] for i in y_act]\n",
    "    out_df = pd.DataFrame(np.vstack([predicted_class, actual_class]).T, columns=['predicted_class', 'actual_class'])\n",
    "    confusion_matrix = pd.crosstab(out_df['actual_class'], out_df[\"predicted_class\"], rownames=[\"Actual\"],\n",
    "                                   colnames=[\"predicted\"])\n",
    "    # sn.heatmap(confusion_matrix, cmap=\"Blues\", annot=True, fmt='d')\n",
    "    # plt.show()\n",
    "    # print(\"test_acc= {}\".format((np.diagonal(confusion_matrix).sum()/confusion_matrix.sum().sum()*100)))\n",
    "    test_acc = int((np.diagonal(confusion_matrix).sum() / confusion_matrix.sum().sum() * 100))\n",
    "    return test_acc\n",
    "\n",
    "\n",
    "#\n",
    "#\n",
    "test1 = GenerateAcc(test_cat1_image_gen)\n",
    "test2 = GenerateAcc(test_cat2_image_gen)\n",
    "test3 = GenerateAcc(test_cat3_image_gen)\n",
    "test4 = GenerateAcc(test_cat4_image_gen)\n",
    "\n",
    "print(test1)\n",
    "print(test2)\n",
    "print(test3)\n",
    "print(test4)"
   ]
  },
  {
   "cell_type": "code",
   "execution_count": null,
   "metadata": {},
   "outputs": [],
   "source": []
  },
  {
   "cell_type": "code",
   "execution_count": 25,
   "metadata": {},
   "outputs": [
    {
     "data": {
      "image/png": "[encoded data removed]",
      "text/plain": [
       "<Figure size 432x288 with 1 Axes>"
      ]
     },
     "metadata": {},
     "output_type": "display_data"
    }
   ],
   "source": [
    "y = np.array([test1, test2, test3, test4])\n",
    "mylabels = [\"20-29\", \"30-39\", \"40-49\", \"50-59\"]\n",
    "\n",
    "plt.pie(y, labels=mylabels, radius=2.6)\n",
    "plt.show()"
   ]
  },
  {
   "cell_type": "code",
   "execution_count": 51,
   "metadata": {},
   "outputs": [],
   "source": [
    "from sklearn.metrics import recall_score"
   ]
  },
  {
   "cell_type": "code",
   "execution_count": 52,
   "metadata": {},
   "outputs": [],
   "source": [
    "recall = recall_score(new_act, new_prob, average=\"macro\")\n"
   ]
  },
  {
   "cell_type": "code",
   "execution_count": 53,
   "metadata": {},
   "outputs": [],
   "source": [
    "recall = int(recall * 100)\n",
    "preciesion = int(preciesion * 100)\n",
    "fiscore = int(fiscore * 100)"
   ]
  },
  {
   "cell_type": "code",
   "execution_count": 54,
   "metadata": {},
   "outputs": [
    {
     "name": "stdout",
     "output_type": "stream",
     "text": [
      "7900\n",
      "81000000\n",
      "79000000\n",
      "80.0\n"
     ]
    }
   ],
   "source": [
    "print(recallss)\n",
    "print(preciesiona)\n",
    "print(fiscoree)\n",
    "print(test_acc)"
   ]
  },
  {
   "cell_type": "code",
   "execution_count": 55,
   "metadata": {},
   "outputs": [
    {
     "data": {
      "image/png": "[encoded data removed]",
      "text/plain": [
       "<Figure size 432x288 with 1 Axes>"
      ]
     },
     "metadata": {},
     "output_type": "display_data"
    }
   ],
   "source": [
    "evaluation = np.array([81, 79, 79, test_acc])\n",
    "mylabels = [\"Precision_score\", \"Recall_score\", \"F1_score\", \"Test_acc\"]\n",
    "\n",
    "plt.pie(evaluation, labels=mylabels, radius=2.6)\n",
    "plt.show()"
   ]
  },
  {
   "cell_type": "code",
   "execution_count": null,
   "metadata": {},
   "outputs": [],
   "source": []
  },
  {
   "cell_type": "code",
   "execution_count": null,
   "metadata": {},
   "outputs": [],
   "source": []
  }
 ],
 "metadata": {
  "kernelspec": {
   "display_name": "Python 3",
   "language": "python",
   "name": "python3"
  },
  "language_info": {
   "codemirror_mode": {
    "name": "ipython",
    "version": 3
   },
   "file_extension": ".py",
   "mimetype": "text/x-python",
   "name": "python",
   "nbconvert_exporter": "python",
   "pygments_lexer": "ipython3",
   "version": "3.7.6"
  }
 },
 "nbformat": 4,
 "nbformat_minor": 4
}
