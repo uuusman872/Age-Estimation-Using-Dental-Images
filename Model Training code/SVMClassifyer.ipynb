{
 "cells": [
  {
   "cell_type": "code",
   "execution_count": 1,
   "metadata": {},
   "outputs": [],
   "source": [
    "import os\n",
    "import numpy as np\n",
    "import matplotlib.pyplot as plt\n",
    "import cv2\n",
    "import pickle\n",
    "from sklearn.svm import SVC\n",
    "import re"
   ]
  },
  {
   "cell_type": "code",
   "execution_count": 2,
   "metadata": {},
   "outputs": [
    {
     "name": "stdout",
     "output_type": "stream",
     "text": [
      "768\n"
     ]
    }
   ],
   "source": [
    "width, height = 320, 320\n",
    "data = []\n",
    "data_dir = \"Dataset/Train/\"\n",
    "categories = [\"20-29\", \"30-39\", \"40-49\", \"50-59\"]\n",
    "for cat in categories:\n",
    "    path = os.path.join(data_dir, cat)\n",
    "    label = categories.index(cat)\n",
    "    for img in os.listdir(path):\n",
    "        imgPath = os.path.join(path, img)\n",
    "        image = cv2.imread(imgPath, 0)\n",
    "        image = cv2.resize(image, (width, height))\n",
    "        image = np.array(image).flatten()\n",
    "        data.append([image, label])\n",
    "print(len(data))"
   ]
  },
  {
   "cell_type": "code",
   "execution_count": null,
   "metadata": {},
   "outputs": [],
   "source": [
    "pickle_in = open(\"data1.pickle\", \"wb\")\n",
    "pickle.dump(data,pickle_in)\n",
    "pickle_in.close()"
   ]
  },
  {
   "cell_type": "code",
   "execution_count": null,
   "metadata": {},
   "outputs": [],
   "source": [
    "pickle_out = open(\"data1.pickle\", \"rb\")\n",
    "data = pickle.load(pickle_out)\n",
    "pickle_out.close()"
   ]
  },
  {
   "cell_type": "code",
   "execution_count": 3,
   "metadata": {},
   "outputs": [],
   "source": [
    "features = []\n",
    "labels = []"
   ]
  },
  {
   "cell_type": "code",
   "execution_count": 4,
   "metadata": {},
   "outputs": [],
   "source": [
    "import random\n",
    "random.shuffle(data)\n",
    "for feature, label in data:\n",
    "    features.append(feature)\n",
    "    labels.append(label)"
   ]
  },
  {
   "cell_type": "code",
   "execution_count": 5,
   "metadata": {},
   "outputs": [
    {
     "name": "stdout",
     "output_type": "stream",
     "text": [
      "0.525974025974026\n"
     ]
    }
   ],
   "source": [
    "from sklearn.model_selection import train_test_split\n",
    "xtrain, xtest, ytrain, ytest = train_test_split(features, labels, test_size=0.2)\n",
    "model = SVC(C=1, gamma='auto', kernel='poly')\n",
    "model.fit(xtrain, ytrain)\n",
    "prediction = model.predict(xtest)\n",
    "accuracy = model.score(xtest, ytest)\n",
    "print(accuracy)"
   ]
  },
  {
   "cell_type": "code",
   "execution_count": null,
   "metadata": {},
   "outputs": [],
   "source": [
    "# Saving Model"
   ]
  },
  {
   "cell_type": "code",
   "execution_count": null,
   "metadata": {},
   "outputs": [],
   "source": [
    "pick = open('svmModelClassifier.sav', \"wb\")\n",
    "pickle.dump(model, pick)\n",
    "pick.close()"
   ]
  },
  {
   "cell_type": "code",
   "execution_count": 8,
   "metadata": {},
   "outputs": [
    {
     "name": "stdout",
     "output_type": "stream",
     "text": [
      "20-29\n"
     ]
    }
   ],
   "source": [
    "image_list = []\n",
    "image = cv2.imread(\"Dataset/Train/20-29/174.jpg\", 0)\n",
    "image = cv2.resize(image, (320, 320))\n",
    "image = np.array(image).flatten()\n",
    "image_list.append(image)\n",
    "\n",
    "prediction = model.predict(image_list)\n",
    "print(categories[prediction[0]])"
   ]
  },
  {
   "cell_type": "code",
   "execution_count": 10,
   "metadata": {
    "collapsed": true
   },
   "outputs": [
    {
     "name": "stdout",
     "output_type": "stream",
     "text": [
      "20-29\n",
      "20-29\n",
      "20-29\n",
      "20-29\n",
      "20-29\n",
      "20-29\n",
      "20-29\n",
      "20-29\n",
      "40-49\n",
      "20-29\n",
      "20-29\n",
      "20-29\n",
      "20-29\n",
      "20-29\n",
      "20-29\n",
      "20-29\n",
      "20-29\n",
      "20-29\n",
      "20-29\n",
      "20-29\n",
      "20-29\n",
      "30-39\n",
      "20-29\n",
      "20-29\n",
      "20-29\n",
      "20-29\n",
      "20-29\n",
      "20-29\n",
      "20-29\n",
      "20-29\n",
      "50-59\n",
      "20-29\n",
      "20-29\n",
      "20-29\n",
      "40-49\n",
      "40-49\n",
      "20-29\n",
      "20-29\n",
      "20-29\n",
      "20-29\n",
      "40-49\n",
      "20-29\n",
      "20-29\n",
      "40-49\n",
      "20-29\n",
      "20-29\n",
      "20-29\n",
      "20-29\n",
      "20-29\n",
      "20-29\n",
      "20-29\n",
      "20-29\n",
      "20-29\n",
      "20-29\n",
      "20-29\n",
      "20-29\n",
      "20-29\n",
      "20-29\n",
      "50-59\n",
      "20-29\n",
      "20-29\n",
      "20-29\n",
      "20-29\n",
      "30-39\n",
      "20-29\n",
      "20-29\n",
      "20-29\n",
      "20-29\n",
      "50-59\n",
      "20-29\n",
      "20-29\n",
      "20-29\n",
      "20-29\n",
      "20-29\n",
      "20-29\n",
      "30-39\n",
      "20-29\n",
      "20-29\n",
      "20-29\n",
      "20-29\n",
      "20-29\n",
      "20-29\n",
      "20-29\n",
      "20-29\n",
      "20-29\n",
      "20-29\n",
      "20-29\n",
      "20-29\n",
      "20-29\n",
      "20-29\n",
      "20-29\n",
      "20-29\n",
      "20-29\n",
      "20-29\n",
      "20-29\n",
      "20-29\n",
      "20-29\n",
      "30-39\n",
      "20-29\n",
      "20-29\n",
      "20-29\n",
      "40-49\n",
      "20-29\n",
      "20-29\n",
      "20-29\n",
      "20-29\n",
      "20-29\n",
      "20-29\n",
      "20-29\n",
      "20-29\n",
      "20-29\n",
      "20-29\n",
      "20-29\n",
      "20-29\n",
      "20-29\n",
      "20-29\n",
      "20-29\n",
      "20-29\n",
      "20-29\n",
      "20-29\n",
      "20-29\n",
      "20-29\n",
      "20-29\n",
      "20-29\n",
      "20-29\n",
      "20-29\n",
      "20-29\n",
      "20-29\n",
      "20-29\n",
      "20-29\n",
      "20-29\n",
      "20-29\n",
      "20-29\n",
      "20-29\n",
      "20-29\n",
      "20-29\n",
      "20-29\n",
      "20-29\n",
      "20-29\n",
      "20-29\n",
      "40-49\n",
      "20-29\n",
      "20-29\n",
      "20-29\n",
      "20-29\n",
      "20-29\n",
      "20-29\n",
      "20-29\n",
      "20-29\n",
      "20-29\n",
      "20-29\n",
      "20-29\n",
      "20-29\n",
      "20-29\n",
      "20-29\n",
      "20-29\n",
      "20-29\n",
      "20-29\n",
      "20-29\n",
      "20-29\n",
      "20-29\n",
      "30-39\n",
      "20-29\n",
      "20-29\n",
      "20-29\n",
      "20-29\n",
      "20-29\n",
      "20-29\n",
      "30-39\n",
      "20-29\n",
      "30-39\n",
      "20-29\n",
      "20-29\n",
      "20-29\n",
      "20-29\n",
      "20-29\n",
      "20-29\n",
      "20-29\n",
      "20-29\n",
      "20-29\n",
      "20-29\n",
      "20-29\n",
      "20-29\n",
      "20-29\n",
      "20-29\n",
      "20-29\n",
      "30-39\n",
      "20-29\n",
      "40-49\n",
      "20-29\n",
      "20-29\n",
      "20-29\n",
      "20-29\n",
      "20-29\n",
      "20-29\n",
      "30-39\n"
     ]
    }
   ],
   "source": [
    "data_dir = \"Dataset/Train/20-29/\"\n",
    "files_to_predict = os.listdir(data_dir)\n",
    "for file in files_to_predict:\n",
    "    image = cv2.imread(data_dir + file, 0)\n",
    "    image = cv2.resize(image, (320, 320))\n",
    "    image = np.array(image).flatten()\n",
    "    image_list.append(image)\n",
    "    prediction = model.predict(image_list)\n",
    "    print(categories[prediction[0]])\n",
    "    image_list.clear()"
   ]
  },
  {
   "cell_type": "code",
   "execution_count": null,
   "metadata": {},
   "outputs": [],
   "source": [
    "pickle_in = open(\"model.sav\", \"rb\")\n",
    "model = pickle.load(pickle_in)\n",
    "pickle_in.close()"
   ]
  }
 ],
 "metadata": {
  "kernelspec": {
   "display_name": "Python 3",
   "language": "python",
   "name": "python3"
  },
  "language_info": {
   "codemirror_mode": {
    "name": "ipython",
    "version": 3
   },
   "file_extension": ".py",
   "mimetype": "text/x-python",
   "name": "python",
   "nbconvert_exporter": "python",
   "pygments_lexer": "ipython3",
   "version": "3.7.6"
  }
 },
 "nbformat": 4,
 "nbformat_minor": 4
}
