{
 "cells": [
  {
   "cell_type": "code",
   "execution_count": 1,
   "metadata": {},
   "outputs": [],
   "source": [
    "import matplotlib.pyplot as plt\n",
    "import cv2\n",
    "import pickle\n",
    "from sklearn.model_selection import train_test_split\n",
    "from sklearn.metrics import accuracy_score, confusion_matrix\n",
    "from sklearn.multiclass import OneVsRestClassifier\n",
    "from sklearn.neighbors import KNeighborsClassifier"
   ]
  },
  {
   "cell_type": "code",
   "execution_count": 2,
   "metadata": {},
   "outputs": [],
   "source": [
    "import os\n",
    "import numpy as np"
   ]
  },
  {
   "cell_type": "code",
   "execution_count": 3,
   "metadata": {},
   "outputs": [
    {
     "name": "stdout",
     "output_type": "stream",
     "text": [
      "768\n"
     ]
    }
   ],
   "source": [
    "width, height = 320, 320\n",
    "data = []\n",
    "data_dir = \"Dataset/Train/\"\n",
    "categories = [\"20-29\", \"30-39\", \"40-49\", \"50-59\"]\n",
    "for cat in categories:\n",
    "    path = os.path.join(data_dir, cat)\n",
    "    label = categories.index(cat)\n",
    "    for img in os.listdir(path):\n",
    "        imgPath = os.path.join(path, img)\n",
    "        image = cv2.imread(imgPath, 0)\n",
    "        image = cv2.resize(image, (width, height))\n",
    "        image = np.array(image).flatten()\n",
    "        data.append([image, label])\n",
    "print(len(data))"
   ]
  },
  {
   "cell_type": "code",
   "execution_count": 4,
   "metadata": {},
   "outputs": [],
   "source": [
    "features = []\n",
    "labels = []"
   ]
  },
  {
   "cell_type": "code",
   "execution_count": 5,
   "metadata": {},
   "outputs": [],
   "source": [
    "import random\n",
    "random.shuffle(data)\n",
    "for feature, label in data:\n",
    "    features.append(feature)\n",
    "    labels.append(label)"
   ]
  },
  {
   "cell_type": "code",
   "execution_count": 8,
   "metadata": {},
   "outputs": [
    {
     "name": "stdout",
     "output_type": "stream",
     "text": [
      "fitting data\n",
      "0.4155844155844156\n"
     ]
    }
   ],
   "source": [
    "xtrain, xtest, ytrain, ytest = train_test_split(features, labels, test_size=0.2)\n",
    "print(\"fitting data\")\n",
    "knn = KNeighborsClassifier()\n",
    "knn.fit(xtrain, ytrain)\n",
    "prediction = knn.predict(xtest)\n",
    "accuracy = knn.score(xtest, ytest)\n",
    "print(accuracy)"
   ]
  },
  {
   "cell_type": "code",
   "execution_count": null,
   "metadata": {},
   "outputs": [],
   "source": [
    "# Saving Model "
   ]
  },
  {
   "cell_type": "code",
   "execution_count": 12,
   "metadata": {},
   "outputs": [],
   "source": [
    "pick = open('KNNClassifiyerModel2.sav', \"wb\")\n",
    "pickle.dump(knn, pick)\n",
    "pick.close()"
   ]
  },
  {
   "cell_type": "code",
   "execution_count": 10,
   "metadata": {},
   "outputs": [
    {
     "name": "stdout",
     "output_type": "stream",
     "text": [
      "20-29\n"
     ]
    }
   ],
   "source": [
    "image_list = []\n",
    "image = cv2.imread(\"Dataset/Train/20-29/174.jpg\", 0)\n",
    "image = cv2.resize(image, (320, 320))\n",
    "image = np.array(image).flatten()\n",
    "image_list.append(image)\n",
    "prediction = knn.predict(image_list)\n",
    "print(categories[prediction[0]])"
   ]
  },
  {
   "cell_type": "code",
   "execution_count": 11,
   "metadata": {},
   "outputs": [
    {
     "name": "stdout",
     "output_type": "stream",
     "text": [
      "20-29\n",
      "20-29\n",
      "20-29\n",
      "50-59\n",
      "30-39\n",
      "30-39\n",
      "30-39\n",
      "20-29\n",
      "30-39\n",
      "20-29\n",
      "30-39\n",
      "20-29\n",
      "30-39\n",
      "20-29\n",
      "20-29\n",
      "30-39\n",
      "30-39\n",
      "40-49\n",
      "20-29\n",
      "20-29\n",
      "30-39\n",
      "30-39\n",
      "20-29\n",
      "20-29\n",
      "20-29\n",
      "30-39\n",
      "30-39\n",
      "30-39\n",
      "20-29\n",
      "20-29\n",
      "20-29\n",
      "20-29\n",
      "40-49\n",
      "20-29\n",
      "50-59\n",
      "20-29\n",
      "30-39\n",
      "30-39\n",
      "40-49\n",
      "30-39\n",
      "30-39\n",
      "40-49\n",
      "40-49\n",
      "30-39\n",
      "30-39\n",
      "20-29\n",
      "40-49\n",
      "20-29\n",
      "20-29\n",
      "30-39\n",
      "20-29\n",
      "50-59\n",
      "40-49\n",
      "30-39\n",
      "20-29\n",
      "30-39\n",
      "20-29\n",
      "20-29\n",
      "50-59\n",
      "20-29\n",
      "40-49\n",
      "30-39\n",
      "30-39\n",
      "30-39\n",
      "20-29\n",
      "20-29\n",
      "20-29\n",
      "40-49\n",
      "50-59\n",
      "20-29\n",
      "50-59\n",
      "20-29\n",
      "40-49\n",
      "50-59\n",
      "40-49\n",
      "30-39\n",
      "20-29\n",
      "20-29\n",
      "40-49\n",
      "20-29\n",
      "20-29\n",
      "20-29\n",
      "20-29\n",
      "20-29\n",
      "20-29\n",
      "20-29\n",
      "20-29\n",
      "20-29\n",
      "20-29\n",
      "20-29\n",
      "30-39\n",
      "30-39\n",
      "40-49\n",
      "30-39\n",
      "30-39\n",
      "40-49\n",
      "30-39\n",
      "20-29\n",
      "30-39\n",
      "40-49\n",
      "40-49\n",
      "40-49\n",
      "20-29\n",
      "40-49\n",
      "30-39\n",
      "20-29\n",
      "20-29\n",
      "20-29\n",
      "20-29\n",
      "20-29\n",
      "20-29\n",
      "30-39\n",
      "20-29\n",
      "20-29\n",
      "30-39\n",
      "20-29\n",
      "30-39\n",
      "30-39\n",
      "20-29\n",
      "30-39\n",
      "40-49\n",
      "20-29\n",
      "40-49\n",
      "20-29\n",
      "40-49\n",
      "40-49\n",
      "40-49\n",
      "20-29\n",
      "30-39\n",
      "30-39\n",
      "30-39\n",
      "20-29\n",
      "20-29\n",
      "30-39\n",
      "20-29\n",
      "30-39\n",
      "20-29\n",
      "20-29\n",
      "30-39\n",
      "50-59\n",
      "30-39\n",
      "20-29\n",
      "30-39\n",
      "20-29\n",
      "20-29\n",
      "30-39\n",
      "20-29\n",
      "20-29\n",
      "50-59\n",
      "20-29\n",
      "20-29\n",
      "30-39\n",
      "20-29\n",
      "40-49\n",
      "20-29\n",
      "40-49\n",
      "20-29\n",
      "40-49\n",
      "20-29\n",
      "20-29\n",
      "20-29\n",
      "20-29\n",
      "40-49\n",
      "20-29\n",
      "50-59\n",
      "20-29\n",
      "30-39\n",
      "20-29\n",
      "40-49\n",
      "20-29\n",
      "20-29\n",
      "50-59\n",
      "20-29\n",
      "30-39\n",
      "20-29\n",
      "20-29\n",
      "20-29\n",
      "20-29\n",
      "20-29\n",
      "30-39\n",
      "20-29\n",
      "20-29\n",
      "30-39\n",
      "40-49\n",
      "20-29\n",
      "20-29\n",
      "30-39\n",
      "20-29\n",
      "20-29\n",
      "20-29\n",
      "30-39\n",
      "20-29\n",
      "20-29\n",
      "40-49\n",
      "30-39\n",
      "30-39\n"
     ]
    }
   ],
   "source": [
    "data_dir = \"Dataset/Train/20-29/\"\n",
    "files_to_predict = os.listdir(data_dir)\n",
    "for file in files_to_predict:\n",
    "    image = cv2.imread(data_dir + file, 0)\n",
    "    image = cv2.resize(image, (320, 320))\n",
    "    image = np.array(image).flatten()\n",
    "    image_list.append(image)\n",
    "    prediction = knn.predict(image_list)\n",
    "    print(categories[prediction[0]])\n",
    "    image_list.clear()"
   ]
  },
  {
   "cell_type": "code",
   "execution_count": null,
   "metadata": {},
   "outputs": [],
   "source": [
    "# Loading Model"
   ]
  },
  {
   "cell_type": "code",
   "execution_count": 15,
   "metadata": {},
   "outputs": [],
   "source": [
    "pickle_in = open(\"KNNClassifiyerModel.sav\", \"rb\")\n",
    "model = pickle.load(pickle_in)\n",
    "pickle_in.close()"
   ]
  },
  {
   "cell_type": "code",
   "execution_count": null,
   "metadata": {},
   "outputs": [],
   "source": [
    "image_list = []\n",
    "image = cv2.imread(\"Dataset/Train/20-29/174.jpg\", 0)\n",
    "image = cv2.resize(image, (320, 320))\n",
    "image = np.array(image).flatten()\n",
    "image_list.append(image)\n",
    "prediction = model.predict(image_list)\n",
    "print(categories[prediction[0]])"
   ]
  }
 ],
 "metadata": {
  "kernelspec": {
   "display_name": "Python 3",
   "language": "python",
   "name": "python3"
  },
  "language_info": {
   "codemirror_mode": {
    "name": "ipython",
    "version": 3
   },
   "file_extension": ".py",
   "mimetype": "text/x-python",
   "name": "python",
   "nbconvert_exporter": "python",
   "pygments_lexer": "ipython3",
   "version": "3.7.6"
  }
 },
 "nbformat": 4,
 "nbformat_minor": 4
}
